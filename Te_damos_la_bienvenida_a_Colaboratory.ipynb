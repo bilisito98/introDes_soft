{
  "cells": [
    {
      "cell_type": "markdown",
      "metadata": {
        "id": "view-in-github",
        "colab_type": "text"
      },
      "source": [
        "<a href=\"https://colab.research.google.com/github/bilisito98/introDes_soft/blob/main/Te_damos_la_bienvenida_a_Colaboratory.ipynb\" target=\"_parent\"><img src=\"https://colab.research.google.com/assets/colab-badge.svg\" alt=\"Open In Colab\"/></a>"
      ]
    },
    {
      "cell_type": "code",
      "source": [],
      "metadata": {
        "id": "mgMKOaBNVpmI"
      },
      "execution_count": null,
      "outputs": []
    },
    {
      "cell_type": "code",
      "source": [
        "ancho = int(input(\"ingresar ancho: \"))\n",
        "alto = int(input(\"ingresar alto: \"))\n",
        "print(\"el area es: \", ancho*alto/2)"
      ],
      "metadata": {
        "colab": {
          "base_uri": "https://localhost:8080/"
        },
        "id": "68icXb4LV5tw",
        "outputId": "4c0cc6dc-f084-4533-8c6d-18f04b8260ee"
      },
      "execution_count": 3,
      "outputs": [
        {
          "output_type": "stream",
          "name": "stdout",
          "text": [
            "ingresar ancho: 10\n",
            "ingresar alto: 20\n",
            "el area es:  100.0\n"
          ]
        }
      ]
    },
    {
      "cell_type": "code",
      "source": [
        "celsius= int(input(\"grados celsius: \"))\n",
        "print(\"grados fahrenheit: \" , (celsius*9/5)+32)"
      ],
      "metadata": {
        "colab": {
          "base_uri": "https://localhost:8080/"
        },
        "id": "rS80Wo21Wcqm",
        "outputId": "090ce883-3c3a-480c-8135-4dbc94db20f1"
      },
      "execution_count": 5,
      "outputs": [
        {
          "output_type": "stream",
          "name": "stdout",
          "text": [
            "grados celsius: 23\n",
            "grados fahrenheit:  73.4\n"
          ]
        }
      ]
    },
    {
      "cell_type": "code",
      "source": [
        "numeros = [10, 20, 30, 40, 50]\n",
        "numero_mayor = max(numeros)\n",
        "print(\"el numero mayor es: \", numero_mayor)"
      ],
      "metadata": {
        "colab": {
          "base_uri": "https://localhost:8080/"
        },
        "id": "NbzBfqEbX9e2",
        "outputId": "00639865-f29d-4287-c425-d56cdda4b3dd"
      },
      "execution_count": 7,
      "outputs": [
        {
          "output_type": "stream",
          "name": "stdout",
          "text": [
            "el numero mayor es:  50\n"
          ]
        }
      ]
    },
    {
      "cell_type": "code",
      "source": [
        "#calculadora\n",
        "num1 = int(input(\"ingresar primer numero: \"))\n",
        "num2 = int(input(\"ingresar segundo numero: \"))\n",
        "\n",
        "suma = num1 + num2\n",
        "resta = num1 - num2\n",
        "multiplicacion = num1 * num2\n",
        "division = num1 / num2\n",
        "print(\"suma: \", (suma))\n",
        "print(\"resta: \", (resta))\n",
        "print(\"multiplicacion: \", (multiplicacion))\n",
        "print(\"division: \", (division))"
      ],
      "metadata": {
        "colab": {
          "base_uri": "https://localhost:8080/"
        },
        "id": "MYb-BXpcYxdP",
        "outputId": "fad8d402-0dcd-43bb-e7fd-76f930903468"
      },
      "execution_count": 12,
      "outputs": [
        {
          "output_type": "stream",
          "name": "stdout",
          "text": [
            "ingresar primer numero: 2\n",
            "ingresar segundo numero: 3\n",
            "suma:  5\n",
            "resta:  -1\n",
            "multiplicacion:  6\n",
            "division:  0.6666666666666666\n"
          ]
        }
      ]
    },
    {
      "cell_type": "code",
      "source": [
        "#adivinanzas\n",
        "import random\n",
        "\n",
        "ordenador = random.randint(1,100)\n",
        "\n",
        "usuario = int(input(\"ingresar numero: \"))\n",
        "\n",
        "if usuario == ordenador:\n",
        "  print(\"ganaste\")\n",
        "else:\n",
        "  print(\"perdiste es:\", ordenador)"
      ],
      "metadata": {
        "colab": {
          "base_uri": "https://localhost:8080/"
        },
        "id": "KK8QwU1-Z2o0",
        "outputId": "ee9d0693-2aa4-492c-e054-0a8012c9a032"
      },
      "execution_count": 19,
      "outputs": [
        {
          "output_type": "stream",
          "name": "stdout",
          "text": [
            "ingresar numero: 50\n",
            "perdiste es: 38\n"
          ]
        }
      ]
    },
    {
      "cell_type": "code",
      "source": [
        "#clasificacion de numeros\n",
        "\n",
        "numero = int(input(\"ingresar numero: \"))\n",
        "\n",
        "if numero > 0:\n",
        "  print(\"positivo\")\n",
        "elif numero < 0:\n",
        "  print(\"negativo\")\n",
        "else:\n",
        "  print(\"cero\")"
      ],
      "metadata": {
        "colab": {
          "base_uri": "https://localhost:8080/"
        },
        "id": "MEeKug4Icxm5",
        "outputId": "ff154f22-2f73-46bd-9817-465ee452996d"
      },
      "execution_count": 30,
      "outputs": [
        {
          "output_type": "stream",
          "name": "stdout",
          "text": [
            "ingresar numero: 0\n",
            "cero\n"
          ]
        }
      ]
    }
  ],
  "metadata": {
    "colab": {
      "name": "Te damos la bienvenida a Colaboratory",
      "toc_visible": true,
      "provenance": [],
      "include_colab_link": true
    },
    "kernelspec": {
      "display_name": "Python 3",
      "name": "python3"
    }
  },
  "nbformat": 4,
  "nbformat_minor": 0
}