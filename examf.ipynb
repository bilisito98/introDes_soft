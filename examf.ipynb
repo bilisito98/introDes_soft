{
  "nbformat": 4,
  "nbformat_minor": 0,
  "metadata": {
    "colab": {
      "provenance": [],
      "authorship_tag": "ABX9TyOOXpRUZXD9bKhjLl6gaMq4",
      "include_colab_link": true
    },
    "kernelspec": {
      "name": "python3",
      "display_name": "Python 3"
    },
    "language_info": {
      "name": "python"
    }
  },
  "cells": [
    {
      "cell_type": "markdown",
      "metadata": {
        "id": "view-in-github",
        "colab_type": "text"
      },
      "source": [
        "<a href=\"https://colab.research.google.com/github/bilisito98/introDes_soft/blob/main/examf.ipynb\" target=\"_parent\"><img src=\"https://colab.research.google.com/assets/colab-badge.svg\" alt=\"Open In Colab\"/></a>"
      ]
    },
    {
      "cell_type": "code",
      "execution_count": 1,
      "metadata": {
        "colab": {
          "base_uri": "https://localhost:8080/"
        },
        "id": "VzEHG2WqKJjm",
        "outputId": "e7b8e74e-171f-4bf7-d00d-b12f096112b1"
      },
      "outputs": [
        {
          "output_type": "stream",
          "name": "stdout",
          "text": [
            "Por favor, ingrese la temperatura del día en grados Celsius: 21\n",
            "La temperatura está media\n"
          ]
        }
      ],
      "source": [
        "# Cree un código que solicite al usuario que ingrese la temperatura del día en grados Celsius.\n",
        "temperatura = float(input(\"Por favor, ingrese la temperatura del día en grados Celsius: \"))\n",
        "\n",
        "if temperatura < 10:\n",
        "    print(\"Hace frío\")\n",
        "elif 10 <= temperatura <= 25:\n",
        "    print(\"La temperatura está media\")\n",
        "elif 26 <= temperatura <= 36:\n",
        "    print(\"Hace calor\")\n",
        "else:\n",
        "    print(\"Error: La temperatura es demasiado alta. Por favor, verifique los datos.\")"
      ]
    }
  ]
}