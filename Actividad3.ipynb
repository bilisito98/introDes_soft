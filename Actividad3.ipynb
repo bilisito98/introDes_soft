{
  "nbformat": 4,
  "nbformat_minor": 0,
  "metadata": {
    "colab": {
      "provenance": [],
      "authorship_tag": "ABX9TyPNBsa09uJWes7pctbYyM2j",
      "include_colab_link": true
    },
    "kernelspec": {
      "name": "python3",
      "display_name": "Python 3"
    },
    "language_info": {
      "name": "python"
    }
  },
  "cells": [
    {
      "cell_type": "markdown",
      "metadata": {
        "id": "view-in-github",
        "colab_type": "text"
      },
      "source": [
        "<a href=\"https://colab.research.google.com/github/bilisito98/introDes_soft/blob/main/Actividad3.ipynb\" target=\"_parent\"><img src=\"https://colab.research.google.com/assets/colab-badge.svg\" alt=\"Open In Colab\"/></a>"
      ]
    },
    {
      "cell_type": "code",
      "execution_count": 3,
      "metadata": {
        "colab": {
          "base_uri": "https://localhost:8080/"
        },
        "id": "VI7O1ccX-8zh",
        "outputId": "e35b16f2-10e5-4a8e-8f62-f384ca5e8774"
      },
      "outputs": [
        {
          "output_type": "stream",
          "name": "stdout",
          "text": [
            "Ingrese la cantidad de productos: 11\n",
            "Ingrese el precio de cada producto: 100\n",
            "Total sin descuento: 1100.00\n",
            "Descuento aplicado: 110.00\n",
            "Total a pagar: 990.00\n"
          ]
        }
      ],
      "source": [
        "#tienda\n",
        "def calcular_descuento(cantidad, precio):\n",
        "    #porcentaje de descuento por la cantidad de productos\n",
        "    if cantidad > 20:\n",
        "        descuento = 0.20\n",
        "    elif cantidad > 10:\n",
        "        descuento = 0.10\n",
        "    elif cantidad > 5:\n",
        "        descuento = 0.05\n",
        "    else:\n",
        "        descuento = 0.0\n",
        "\n",
        "    # Calculo total sin descuento\n",
        "    total_sin_descuento = cantidad * precio\n",
        "\n",
        "    # Calculo descuento\n",
        "    total_descuento = total_sin_descuento * descuento\n",
        "\n",
        "    # Calcula a pagar aplicando el descuento\n",
        "    total_a_pagar = total_sin_descuento - total_descuento\n",
        "\n",
        "    return total_a_pagar, total_descuento\n",
        "\n",
        "def main():\n",
        "    try:\n",
        "        cantidad = int(input(\"Ingrese cantidad productos: \"))\n",
        "        precio = float(input(\"Ingrese precio para cada producto: \"))\n",
        "\n",
        "        total_a_pagar, total_descuento = calcular_descuento(cantidad, precio)\n",
        "\n",
        "        print(f\"Total precio: {cantidad * precio:.2f}\")\n",
        "        print(f\"Descuento: {total_descuento:.2f}\")\n",
        "        print(f\"Total a pagar: {total_a_pagar:.2f}\")\n",
        "    except ValueError:\n",
        "        print(\"Favor ingresar número válido.\")\n",
        "\n",
        "if __name__ == \"__main__\":\n",
        "    main()"
      ]
    }
  ]
}