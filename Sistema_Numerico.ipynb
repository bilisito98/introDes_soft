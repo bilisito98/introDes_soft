{
  "nbformat": 4,
  "nbformat_minor": 0,
  "metadata": {
    "colab": {
      "provenance": [],
      "authorship_tag": "ABX9TyPDHX1ytb3oYKPNT8H9LALh",
      "include_colab_link": true
    },
    "kernelspec": {
      "name": "python3",
      "display_name": "Python 3"
    },
    "language_info": {
      "name": "python"
    }
  },
  "cells": [
    {
      "cell_type": "markdown",
      "metadata": {
        "id": "view-in-github",
        "colab_type": "text"
      },
      "source": [
        "<a href=\"https://colab.research.google.com/github/bilisito98/introDes_soft/blob/main/Sistema_Numerico.ipynb\" target=\"_parent\"><img src=\"https://colab.research.google.com/assets/colab-badge.svg\" alt=\"Open In Colab\"/></a>"
      ]
    },
    {
      "cell_type": "code",
      "execution_count": 11,
      "metadata": {
        "colab": {
          "base_uri": "https://localhost:8080/"
        },
        "id": "PydGg6677VDz",
        "outputId": "22c81b9d-055d-4fcc-cdd1-bb0fc2da70c6"
      },
      "outputs": [
        {
          "output_type": "stream",
          "name": "stdout",
          "text": [
            "El número decimal 10 en binario es 1010\n"
          ]
        }
      ],
      "source": [
        "#Decimal a Binario: 10\n",
        "\n",
        "def decimal_a_binario(decimal):\n",
        "    if decimal == 0:\n",
        "        return \"0\"\n",
        "    binario = \"\"\n",
        "    while decimal > 0:\n",
        "        binario = str(decimal % 2) + binario\n",
        "        decimal = decimal // 2\n",
        "    return binario\n",
        "numero_decimal = 10\n",
        "numero_binario = decimal_a_binario(numero_decimal)\n",
        "\n",
        "print(f\"El número decimal {numero_decimal} en binario es {numero_binario}\")"
      ]
    },
    {
      "cell_type": "code",
      "source": [
        "  #Decimal a Octal: 10\n",
        "\n",
        "  def decimal_a_octal(decimal):\n",
        "    if decimal == 0:\n",
        "        return \"0\"\n",
        "    octal = \"\"\n",
        "    while decimal > 0:\n",
        "        octal = str(decimal % 8) + octal\n",
        "        decimal = decimal // 8\n",
        "    return octal\n",
        "numero_decimal = 10\n",
        "numero_octal = decimal_a_octal(numero_decimal)\n",
        "\n",
        "print(f\"El número decimal {numero_decimal} en octal es {numero_octal}\")"
      ],
      "metadata": {
        "colab": {
          "base_uri": "https://localhost:8080/"
        },
        "id": "3SsxVKfw93RP",
        "outputId": "22c3f45b-f04c-4fad-bf53-900aaf9281df"
      },
      "execution_count": 13,
      "outputs": [
        {
          "output_type": "stream",
          "name": "stdout",
          "text": [
            "El número decimal 10 en octal es 12\n"
          ]
        }
      ]
    },
    {
      "cell_type": "code",
      "source": [
        "#Decimal a Hexadecimal: 10\n",
        "\n",
        "def decimal_a_hexadecimal(decimal):\n",
        "    if decimal == 0:\n",
        "        return \"0\"\n",
        "    hex_chars = \"0123456789ABCDEF\"\n",
        "    hexadecimal = \"\"\n",
        "    while decimal > 0:\n",
        "        hexadecimal = hex_chars[decimal % 16] + hexadecimal\n",
        "        decimal = decimal // 16\n",
        "    return hexadecimal\n",
        "numero_decimal = 10\n",
        "numero_hexadecimal = decimal_a_hexadecimal(numero_decimal)\n",
        "print(f\"El número decimal {numero_decimal} en hexadecimal es {numero_hexadecimal}\")"
      ],
      "metadata": {
        "colab": {
          "base_uri": "https://localhost:8080/"
        },
        "id": "X_Pg6x0p-Zlu",
        "outputId": "940ebca4-6a50-419a-a47a-fee12d6fc110"
      },
      "execution_count": 19,
      "outputs": [
        {
          "output_type": "stream",
          "name": "stdout",
          "text": [
            "El número decimal 10 en hexadecimal es A\n"
          ]
        }
      ]
    },
    {
      "cell_type": "code",
      "source": [
        "#Binario a Decimal: 1010\n",
        "\n",
        "def binario_a_decimal(binario):\n",
        "    decimal = 0\n",
        "    binario_str = str(binario)\n",
        "    longitud = len(binario_str)\n",
        "\n",
        "    for i in range(longitud):\n",
        "        bit = int(binario_str[longitud - 1 - i])\n",
        "        decimal += bit * (2 ** i)\n",
        "\n",
        "    return decimal\n",
        "numero_binario = 1010\n",
        "numero_decimal = binario_a_decimal(numero_binario)\n",
        "print(f\"El número binario {numero_binario} en decimal es {numero_decimal}\")"
      ],
      "metadata": {
        "colab": {
          "base_uri": "https://localhost:8080/"
        },
        "id": "jREjGY-gAh_5",
        "outputId": "c98dab0e-a28d-4d52-c466-b8e5e438757c"
      },
      "execution_count": 22,
      "outputs": [
        {
          "output_type": "stream",
          "name": "stdout",
          "text": [
            "El número binario 1010 en decimal es 10\n"
          ]
        }
      ]
    },
    {
      "cell_type": "code",
      "source": [
        "#Octal a Decimal: 12\n",
        "\n",
        "def octal_a_decimal(octal):\n",
        "    decimal = 0\n",
        "    octal_str = str(octal)\n",
        "    longitud = len(octal_str)\n",
        "\n",
        "    for i in range(longitud):\n",
        "        digito = int(octal_str[longitud - 1 - i])\n",
        "        decimal += digito * (8 ** i)\n",
        "\n",
        "    return decimal\n",
        "numero_octal = 12\n",
        "numero_decimal = octal_a_decimal(numero_octal)\n",
        "print(f\"El número octal {numero_octal} en decimal es {numero_decimal}\")"
      ],
      "metadata": {
        "colab": {
          "base_uri": "https://localhost:8080/"
        },
        "id": "QFUboWsCA6cn",
        "outputId": "ebb9773b-b0f2-4ac9-dbf3-16c9882231c7"
      },
      "execution_count": 24,
      "outputs": [
        {
          "output_type": "stream",
          "name": "stdout",
          "text": [
            "El número octal 12 en decimal es 10\n"
          ]
        }
      ]
    },
    {
      "cell_type": "code",
      "source": [
        "#Hexadecimal a Decimal: A\n",
        "\n",
        "def hexadecimal_a_decimal(hexadecimal):\n",
        "    hex_chars = \"0123456789ABCDEF\"\n",
        "    decimal = 0\n",
        "    hexadecimal = hexadecimal.upper()\n",
        "    longitud = len(hexadecimal)\n",
        "\n",
        "    for i in range(longitud):\n",
        "        digito = hex_chars.index(hexadecimal[longitud - 1 - i])\n",
        "        decimal += digito * (16 ** i)\n",
        "\n",
        "    return decimal\n",
        "numero_hexadecimal = \"A\"\n",
        "numero_decimal = hexadecimal_a_decimal(numero_hexadecimal)\n",
        "print(f\"El número hexadecimal {numero_hexadecimal} en decimal es {numero_decimal}\")"
      ],
      "metadata": {
        "colab": {
          "base_uri": "https://localhost:8080/"
        },
        "id": "MBKhss9SBJLY",
        "outputId": "97243863-51ef-488f-b8ce-7d5e6bbcb413"
      },
      "execution_count": 26,
      "outputs": [
        {
          "output_type": "stream",
          "name": "stdout",
          "text": [
            "El número hexadecimal A en decimal es 10\n"
          ]
        }
      ]
    },
    {
      "cell_type": "code",
      "source": [
        "#Binario a Octal: 101010\n",
        "\n",
        "def binario_a_decimal(binario):\n",
        "    decimal = 0\n",
        "    binario = str(binario)\n",
        "    longitud = len(binario)\n",
        "\n",
        "    for i in range(longitud):\n",
        "        digito = int(binario[longitud - 1 - i])\n",
        "        decimal += digito * (2 ** i)\n",
        "\n",
        "    return decimal\n",
        "\n",
        "def decimal_a_octal(decimal):\n",
        "    octal = \"\"\n",
        "\n",
        "    while decimal > 0:\n",
        "        residuo = decimal % 8\n",
        "        octal = str(residuo) + octal\n",
        "        decimal = decimal // 8\n",
        "\n",
        "    return octal\n",
        "\n",
        "def binario_a_octal(binario):\n",
        "    decimal = binario_a_decimal(binario)\n",
        "    octal = decimal_a_octal(decimal)\n",
        "    return octal\n",
        "numero_binario = \"101010\"\n",
        "numero_octal = binario_a_octal(numero_binario)\n",
        "print(f\"El número binario {numero_binario} en octal es {numero_octal}\")"
      ],
      "metadata": {
        "colab": {
          "base_uri": "https://localhost:8080/"
        },
        "id": "mH-7X3TnEvyx",
        "outputId": "edc40864-8f6f-4d06-d23a-81f1fbfb457e"
      },
      "execution_count": 28,
      "outputs": [
        {
          "output_type": "stream",
          "name": "stdout",
          "text": [
            "El número binario 101010 en octal es 52\n"
          ]
        }
      ]
    },
    {
      "cell_type": "code",
      "source": [
        "#Octal a Binario: 152\n",
        "\n",
        "def octal_a_decimal(octal):\n",
        "    decimal = 0\n",
        "    octal = str(octal)\n",
        "    longitud = len(octal)\n",
        "\n",
        "    for i in range(longitud):\n",
        "        digito = int(octal[longitud - 1 - i])\n",
        "        decimal += digito * (8 ** i)\n",
        "\n",
        "    return decimal\n",
        "\n",
        "def decimal_a_binario(decimal):\n",
        "    binario = \"\"\n",
        "\n",
        "    while decimal > 0:\n",
        "        residuo = decimal % 2\n",
        "        binario = str(residuo) + binario\n",
        "        decimal = decimal // 2\n",
        "\n",
        "    return binario\n",
        "\n",
        "def octal_a_binario(octal):\n",
        "    decimal = octal_a_decimal(octal)\n",
        "    binario = decimal_a_binario(decimal)\n",
        "    return binario\n",
        "numero_octal = \"152\"\n",
        "numero_binario = octal_a_binario(numero_octal)\n",
        "print(f\"El número octal {numero_octal} en binario es {numero_binario}\")"
      ],
      "metadata": {
        "colab": {
          "base_uri": "https://localhost:8080/"
        },
        "id": "Lf86nwvGGWN9",
        "outputId": "fc51c99b-e796-4c3a-ba65-9ef17e2cf4f3"
      },
      "execution_count": 30,
      "outputs": [
        {
          "output_type": "stream",
          "name": "stdout",
          "text": [
            "El número octal 152 en binario es 1101010\n"
          ]
        }
      ]
    },
    {
      "cell_type": "code",
      "source": [
        "#Hexadecimal a Binario: A\n",
        "\n",
        "def hexadecimal_a_binario(hexadecimal):\n",
        "    # Convertir el hexadecimal a binario utilizando la función bin()\n",
        "    binario = bin(int(hexadecimal, 16))[2:]\n",
        "    return binario\n",
        "numero_hexadecimal = \"A\"\n",
        "numero_binario = hexadecimal_a_binario(numero_hexadecimal)\n",
        "print(f\"El número hexadecimal {numero_hexadecimal} en binario es {numero_binario}\")"
      ],
      "metadata": {
        "colab": {
          "base_uri": "https://localhost:8080/"
        },
        "id": "qjFa7neVGxt8",
        "outputId": "f1542c48-a363-469a-d15f-874b7ccc586b"
      },
      "execution_count": 32,
      "outputs": [
        {
          "output_type": "stream",
          "name": "stdout",
          "text": [
            "El número hexadecimal A en binario es 1010\n"
          ]
        }
      ]
    },
    {
      "cell_type": "code",
      "source": [
        "#Binario a Hexadecimal: 101010\n",
        "\n",
        "def binario_a_hexadecimal(binario):\n",
        "    # Convierte el binario a hexadecimal utilizando la función hex()\n",
        "    hexadecimal = hex(int(binario, 2))[2:]\n",
        "    return hexadecimal.upper()\n",
        "numero_binario = \"101010\"\n",
        "numero_hexadecimal = binario_a_hexadecimal(numero_binario)\n",
        "print(f\"El número binario {numero_binario} en hexadecimal es {numero_hexadecimal}\")"
      ],
      "metadata": {
        "colab": {
          "base_uri": "https://localhost:8080/"
        },
        "id": "5viasKt2HInE",
        "outputId": "c61de535-f744-4dbd-dd59-2b44636b52d0"
      },
      "execution_count": 34,
      "outputs": [
        {
          "output_type": "stream",
          "name": "stdout",
          "text": [
            "El número binario 101010 en hexadecimal es 2A\n"
          ]
        }
      ]
    },
    {
      "cell_type": "code",
      "source": [
        "#Decimal a Binario (otro): 255\n",
        "\n",
        "def decimal_a_binario(decimal):\n",
        "    if decimal == 0:\n",
        "        return \"0\"\n",
        "\n",
        "    binario = \"\"\n",
        "    while decimal > 0:\n",
        "        residuo = decimal % 2\n",
        "        binario = str(residuo) + binario\n",
        "        decimal = decimal // 2\n",
        "\n",
        "    return binario\n",
        "numero_decimal = 255\n",
        "numero_binario = decimal_a_binario(numero_decimal)\n",
        "print(f\"El número decimal {numero_decimal} en binario es {numero_binario}\")"
      ],
      "metadata": {
        "colab": {
          "base_uri": "https://localhost:8080/"
        },
        "id": "K2ClTXH4JQYB",
        "outputId": "1f89af3d-4a10-46eb-e3c8-3e8e066c4c63"
      },
      "execution_count": 37,
      "outputs": [
        {
          "output_type": "stream",
          "name": "stdout",
          "text": [
            "El número decimal 255 en binario es 11111111\n"
          ]
        }
      ]
    },
    {
      "cell_type": "code",
      "source": [
        "#Decimal a Octal (otro): 255\n",
        "\n",
        "def decimal_a_octal(decimal):\n",
        "    if decimal == 0:\n",
        "        return \"0\"\n",
        "\n",
        "    octal = \"\"\n",
        "    while decimal > 0:\n",
        "        residuo = decimal % 8\n",
        "        octal = str(residuo) + octal\n",
        "        decimal = decimal // 8\n",
        "\n",
        "    return octal\n",
        "numero_decimal = 255\n",
        "numero_octal = decimal_a_octal(numero_decimal)\n",
        "print(f\"El número decimal {numero_decimal} en octal es {numero_octal}\")"
      ],
      "metadata": {
        "colab": {
          "base_uri": "https://localhost:8080/"
        },
        "id": "2IxpaRzgJfKf",
        "outputId": "0fc06080-d269-4f66-e971-ff30e57ce2f1"
      },
      "execution_count": 39,
      "outputs": [
        {
          "output_type": "stream",
          "name": "stdout",
          "text": [
            "El número decimal 255 en octal es 377\n"
          ]
        }
      ]
    },
    {
      "cell_type": "code",
      "source": [
        "#Decimal a Hexadecimal (otro): 255\n",
        "\n",
        "def decimal_a_hexadecimal(decimal):\n",
        "    if decimal == 0:\n",
        "        return \"0\"\n",
        "\n",
        "    hex_chars = \"0123456789ABCDEF\"\n",
        "    hexadecimal = \"\"\n",
        "    while decimal > 0:\n",
        "        residuo = decimal % 16\n",
        "        hexadecimal = hex_chars[residuo] + hexadecimal\n",
        "        decimal = decimal // 16\n",
        "\n",
        "    return hexadecimal\n",
        "numero_decimal = 255\n",
        "numero_hexadecimal = decimal_a_hexadecimal(numero_decimal)\n",
        "print(f\"El número decimal {numero_decimal} en hexadecimal es {numero_hexadecimal}\")"
      ],
      "metadata": {
        "colab": {
          "base_uri": "https://localhost:8080/"
        },
        "id": "moBcLUOOJ4z-",
        "outputId": "60bf5f9d-123a-477c-b29c-54450a65f451"
      },
      "execution_count": 41,
      "outputs": [
        {
          "output_type": "stream",
          "name": "stdout",
          "text": [
            "El número decimal 255 en hexadecimal es FF\n"
          ]
        }
      ]
    },
    {
      "cell_type": "code",
      "source": [
        "#Binario a Decimal (otro): 11111111\n",
        "\n",
        "def binario_a_decimal(binario):\n",
        "    decimal = 0\n",
        "    potencia = len(binario) - 1\n",
        "\n",
        "    for bit in binario:\n",
        "        if bit == '1':\n",
        "            decimal += 2 ** potencia\n",
        "        potencia -= 1\n",
        "\n",
        "    return decimal\n",
        "numero_binario = '11111111'\n",
        "numero_decimal = binario_a_decimal(numero_binario)\n",
        "print(f\"El número binario {numero_binario} en decimal es {numero_decimal}\")"
      ],
      "metadata": {
        "colab": {
          "base_uri": "https://localhost:8080/"
        },
        "id": "-HonV5mLKLou",
        "outputId": "3c017e10-c108-4391-e02a-b0b8eca028bf"
      },
      "execution_count": 43,
      "outputs": [
        {
          "output_type": "stream",
          "name": "stdout",
          "text": [
            "El número binario 11111111 en decimal es 255\n"
          ]
        }
      ]
    },
    {
      "cell_type": "code",
      "source": [
        "#Octal a Decimal (otro): 377\n",
        "\n",
        "def octal_a_decimal(octal):\n",
        "    decimal = 0\n",
        "    potencia = len(octal) - 1\n",
        "\n",
        "    for digito in octal:\n",
        "        decimal += int(digito) * (8 ** potencia)\n",
        "        potencia -= 1\n",
        "\n",
        "    return decimal\n",
        "numero_octal = '377'\n",
        "numero_decimal = octal_a_decimal(numero_octal)\n",
        "print(f\"El número octal {numero_octal} en decimal es {numero_decimal}\")"
      ],
      "metadata": {
        "colab": {
          "base_uri": "https://localhost:8080/"
        },
        "id": "0l0aAIaYLTqk",
        "outputId": "7336c944-0e92-4238-839b-4a5692d24ade"
      },
      "execution_count": 45,
      "outputs": [
        {
          "output_type": "stream",
          "name": "stdout",
          "text": [
            "El número octal 377 en decimal es 255\n"
          ]
        }
      ]
    },
    {
      "cell_type": "code",
      "source": [
        "#Hexadecimal a Decimal (otro): FF\n",
        "\n",
        "def hexadecimal_a_decimal(hexadecimal):\n",
        "    hex_chars = \"0123456789ABCDEF\"\n",
        "    decimal = 0\n",
        "    potencia = len(hexadecimal) - 1\n",
        "\n",
        "    for digito in hexadecimal:\n",
        "        valor = hex_chars.index(digito.upper())\n",
        "        decimal += valor * (16 ** potencia)\n",
        "        potencia -= 1\n",
        "\n",
        "    return decimal\n",
        "numero_hexadecimal = 'FF'\n",
        "numero_decimal = hexadecimal_a_decimal(numero_hexadecimal)\n",
        "print(f\"El número hexadecimal {numero_hexadecimal} en decimal es {numero_decimal}\")"
      ],
      "metadata": {
        "colab": {
          "base_uri": "https://localhost:8080/"
        },
        "id": "OzX2S0h3Ldys",
        "outputId": "3d3f7ae5-7fc5-49a7-9dc4-92a630a60bb7"
      },
      "execution_count": 47,
      "outputs": [
        {
          "output_type": "stream",
          "name": "stdout",
          "text": [
            "El número hexadecimal FF en decimal es 255\n"
          ]
        }
      ]
    },
    {
      "cell_type": "code",
      "source": [
        "#Binario a Octal (otro): 11100001\n",
        "\n",
        "def binario_a_octal(binario):\n",
        "    while len(binario) % 3 != 0:\n",
        "        binario = '0' + binario\n",
        "    grupos = [binario[i:i+3] for i in range(0, len(binario), 3)]\n",
        "    octal_dict = {\n",
        "        '000': '0', '001': '1', '010': '2', '011': '3',\n",
        "        '100': '4', '101': '5', '110': '6', '111': '7'\n",
        "    }\n",
        "    octal = ''.join([octal_dict[grupo] for grupo in grupos])\n",
        "    return octal\n",
        "numero_binario = '11100001'\n",
        "numero_octal = binario_a_octal(numero_binario)\n",
        "print(f\"El número binario {numero_binario} en octal es {numero_octal}\")"
      ],
      "metadata": {
        "colab": {
          "base_uri": "https://localhost:8080/"
        },
        "id": "JMTUDwOWMQZq",
        "outputId": "8fbabbd4-df3a-4bd3-caea-511ecd90e81c"
      },
      "execution_count": 49,
      "outputs": [
        {
          "output_type": "stream",
          "name": "stdout",
          "text": [
            "El número binario 11100001 en octal es 341\n"
          ]
        }
      ]
    },
    {
      "cell_type": "code",
      "source": [
        "#Octal a Binario (otro): 301\n",
        "\n",
        "def octal_a_binario(octal):\n",
        "    octal_dict = {\n",
        "        '0': '000', '1': '001', '2': '010', '3': '011',\n",
        "        '4': '100', '5': '101', '6': '110', '7': '111'\n",
        "    }\n",
        "    binario = ''.join([octal_dict[digito] for digito in octal])\n",
        "    return binario\n",
        "numero_octal = '301'\n",
        "numero_binario = octal_a_binario(numero_octal)\n",
        "print(f\"El número octal {numero_octal} en binario es {numero_binario}\")"
      ],
      "metadata": {
        "colab": {
          "base_uri": "https://localhost:8080/"
        },
        "id": "Vz7fPfxYM32p",
        "outputId": "db4e9cbf-d8fb-4060-f2fd-edf9ca109961"
      },
      "execution_count": 51,
      "outputs": [
        {
          "output_type": "stream",
          "name": "stdout",
          "text": [
            "El número octal 301 en binario es 011000001\n"
          ]
        }
      ]
    },
    {
      "cell_type": "code",
      "source": [
        "#Hexadecimal a Binario (otro): F\n",
        "\n",
        "def hexadecimal_a_binario(hexadecimal):\n",
        "    hexadecimal_dict = {\n",
        "        '0': '0000', '1': '0001', '2': '0010', '3': '0011',\n",
        "        '4': '0100', '5': '0101', '6': '0110', '7': '0111',\n",
        "        '8': '1000', '9': '1001', 'A': '1010', 'B': '1011',\n",
        "        'C': '1100', 'D': '1101', 'E': '1110', 'F': '1111'\n",
        "    }\n",
        "    binario = ''.join([hexadecimal_dict[digito] for digito in hexadecimal.upper()])\n",
        "\n",
        "    return binario\n",
        "numero_hexadecimal = 'F'\n",
        "numero_binario = hexadecimal_a_binario(numero_hexadecimal)\n",
        "print(f\"El número hexadecimal {numero_hexadecimal} en binario es {numero_binario}\")"
      ],
      "metadata": {
        "colab": {
          "base_uri": "https://localhost:8080/"
        },
        "id": "xJ-5zKcZNeHY",
        "outputId": "7ff69cd7-e677-428b-ee0c-2a1eb7e76145"
      },
      "execution_count": 53,
      "outputs": [
        {
          "output_type": "stream",
          "name": "stdout",
          "text": [
            "El número hexadecimal F en binario es 1111\n"
          ]
        }
      ]
    },
    {
      "cell_type": "code",
      "source": [
        "#Binario a Hexadecimal (otro): 1111\n",
        "\n",
        "def binario_a_hexadecimal(binario):\n",
        "    binario_dict = {\n",
        "        '0000': '0', '0001': '1', '0010': '2', '0011': '3',\n",
        "        '0100': '4', '0101': '5', '0110': '6', '0111': '7',\n",
        "        '1000': '8', '1001': '9', '1010': 'A', '1011': 'B',\n",
        "        '1100': 'C', '1101': 'D', '1110': 'E', '1111': 'F'\n",
        "    }\n",
        "    while len(binario) % 4 != 0:\n",
        "        binario = '0' + binario\n",
        "    grupos_hexadecimal = [binario_dict[binario[i:i+4]] for i in range(0, len(binario), 4)]\n",
        "    hexadecimal = ''.join(grupos_hexadecimal)\n",
        "\n",
        "    return hexadecimal\n",
        "numero_binario = '1111'\n",
        "numero_hexadecimal = binario_a_hexadecimal(numero_binario)\n",
        "print(f\"El número binario {numero_binario} en hexadecimal es {numero_hexadecimal}\")"
      ],
      "metadata": {
        "colab": {
          "base_uri": "https://localhost:8080/"
        },
        "id": "fIqnCdtNNzTe",
        "outputId": "52a72edc-96a7-4b8f-80ea-98be56345843"
      },
      "execution_count": 54,
      "outputs": [
        {
          "output_type": "stream",
          "name": "stdout",
          "text": [
            "El número binario 1111 en hexadecimal es F\n"
          ]
        }
      ]
    }
  ]
}